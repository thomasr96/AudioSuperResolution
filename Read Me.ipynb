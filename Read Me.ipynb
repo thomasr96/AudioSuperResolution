{
 "cells": [
  {
   "cell_type": "markdown",
   "metadata": {},
   "source": [
    "This Notebook is split up into two sections: \n",
    "- How to run the model for testing and training.\n",
    "- Code documentation with description of important files, functions, and variables. "
   ]
  },
  {
   "cell_type": "markdown",
   "metadata": {},
   "source": [
    "# How to"
   ]
  },
  {
   "cell_type": "markdown",
   "metadata": {},
   "source": [
    "## Test"
   ]
  },
  {
   "cell_type": "markdown",
   "metadata": {},
   "source": [
    "To test the model on data, change or use the following variables and then run code below. (A test example is pre-run below, simply scroll below and play the desired audio). "
   ]
  },
  {
   "cell_type": "code",
   "execution_count": 1,
   "metadata": {},
   "outputs": [],
   "source": [
    "# variables to be changed\n",
    "# Using VCTK data\n",
    "filename = 'p292_022.wav' # should be included in project directory\n",
    "sr_hr = 16000\n",
    "songlength = 600"
   ]
  },
  {
   "cell_type": "code",
   "execution_count": 2,
   "metadata": {},
   "outputs": [
    {
     "name": "stderr",
     "output_type": "stream",
     "text": [
      "Using TensorFlow backend.\n"
     ]
    }
   ],
   "source": [
    "import sys  \n",
    "sys.path.insert(0,'generators') \n",
    "sys.path.insert(0,'models') \n",
    "sys.path.insert(0,'helpers') \n",
    "\n",
    "import pickle\n",
    "\n",
    "import random\n",
    "import os\n",
    "import numpy as np\n",
    "import time\n",
    "import glob\n",
    "from pydub import AudioSegment\n",
    "\n",
    "import librosa\n",
    "import numpy as np\n",
    "\n",
    "import tensorflow as tf\n",
    "from tensorflow.keras.models import Model\n",
    "\n",
    "import importlib\n",
    "\n",
    "import vctk_audio_generator_2\n",
    "importlib.reload(vctk_audio_generator_2)\n",
    "from vctk_audio_generator_2 import VCTKGenerator\n",
    "\n",
    "import audio_autoencoder\n",
    "importlib.reload(audio_autoencoder)\n",
    "from audio_autoencoder import create_autoencoder\n",
    "\n",
    "import helper_functions\n",
    "importlib.reload(helper_functions)\n",
    "from helper_functions import get_input_shape, get_input_shape_2, make_song_list_file, vctk_tracklist_to_partition, audiosegment_to_ndarray\n",
    "\n",
    "import testing\n",
    "importlib.reload(testing)\n",
    "from testing import get_segments_from_file, make_val_list, get_batch_from_audio, reformat_model_arrays, librosa_array_to_pydub, test_on_audio_file"
   ]
  },
  {
   "cell_type": "code",
   "execution_count": 3,
   "metadata": {},
   "outputs": [
    {
     "name": "stdout",
     "output_type": "stream",
     "text": [
      "(9600, 1)\n"
     ]
    }
   ],
   "source": [
    "# create model\n",
    "number_of_layers = 4\n",
    "skip_connections = True\n",
    "input_shape = get_input_shape_2(filename, songlength, sr_hr)\n",
    "print(input_shape)"
   ]
  },
  {
   "cell_type": "markdown",
   "metadata": {},
   "source": [
    "### $r = 2$"
   ]
  },
  {
   "cell_type": "code",
   "execution_count": 4,
   "metadata": {},
   "outputs": [],
   "source": [
    "ratio = 2"
   ]
  },
  {
   "cell_type": "code",
   "execution_count": 5,
   "metadata": {},
   "outputs": [
    {
     "data": {
      "text/plain": [
       "<tensorflow.python.training.tracking.util.CheckpointLoadStatus at 0x2b262b18a860>"
      ]
     },
     "execution_count": 5,
     "metadata": {},
     "output_type": "execute_result"
    }
   ],
   "source": [
    "sr_lr = int(sr_hr/ratio)\n",
    "model_input, model_output = create_autoencoder(input_shape, number_of_layers, ratio, skip_connections)\n",
    "model = Model(inputs=model_input, outputs=model_output)\n",
    "# load weights\n",
    "model.load_weights('weights/wgan_weights_2/generator_weights_49_')"
   ]
  },
  {
   "cell_type": "code",
   "execution_count": 6,
   "metadata": {},
   "outputs": [],
   "source": [
    "# run model\n",
    "lr_audio, hr_audio, generated_audio = test_on_audio_file(model, filename, songlength, input_shape, ratio, sr_lr, sr_hr)"
   ]
  },
  {
   "cell_type": "code",
   "execution_count": 7,
   "metadata": {},
   "outputs": [
    {
     "name": "stdout",
     "output_type": "stream",
     "text": [
      "Low Resolution Input:\n"
     ]
    },
    {
     "data": {
      "text/html": [
       "\n",
       "                    <audio controls>\n",
       "                        <source src=\"data:audio/mpeg;base64,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\" type=\"audio/mpeg\"/>\n",
       "                        Your browser does not support the audio element.\n",
       "                    </audio>\n",
       "                  "
      ],
      "text/plain": [
       "<pydub.audio_segment.AudioSegment at 0x2b268ffddcf8>"
      ]
     },
     "execution_count": 7,
     "metadata": {},
     "output_type": "execute_result"
    }
   ],
   "source": [
    "print('Low Resolution Input:')\n",
    "lr_audio"
   ]
  },
  {
   "cell_type": "code",
   "execution_count": 8,
   "metadata": {},
   "outputs": [
    {
     "name": "stdout",
     "output_type": "stream",
     "text": [
      "High Resolution Ground Truth:\n"
     ]
    },
    {
     "data": {
      "text/html": [
       "\n",
       "                    <audio controls>\n",
       "                        <source src=\"data:audio/mpeg;base64,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\" type=\"audio/mpeg\"/>\n",
       "                        Your browser does not support the audio element.\n",
       "                    </audio>\n",
       "                  "
      ],
      "text/plain": [
       "<pydub.audio_segment.AudioSegment at 0x2b266bf8b630>"
      ]
     },
     "execution_count": 8,
     "metadata": {},
     "output_type": "execute_result"
    }
   ],
   "source": [
    "print('High Resolution Ground Truth:')\n",
    "hr_audio"
   ]
  },
  {
   "cell_type": "code",
   "execution_count": 9,
   "metadata": {},
   "outputs": [
    {
     "name": "stdout",
     "output_type": "stream",
     "text": [
      "High Resolution Output:\n"
     ]
    },
    {
     "data": {
      "text/html": [
       "\n",
       "                    <audio controls>\n",
       "                        <source src=\"data:audio/mpeg;base64,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\" type=\"audio/mpeg\"/>\n",
       "                        Your browser does not support the audio element.\n",
       "                    </audio>\n",
       "                  "
      ],
      "text/plain": [
       "<pydub.audio_segment.AudioSegment at 0x2b266bf8bbe0>"
      ]
     },
     "execution_count": 9,
     "metadata": {},
     "output_type": "execute_result"
    }
   ],
   "source": [
    "print('High Resolution Output:')\n",
    "generated_audio"
   ]
  },
  {
   "cell_type": "markdown",
   "metadata": {},
   "source": [
    "### $r = 4$"
   ]
  },
  {
   "cell_type": "code",
   "execution_count": 10,
   "metadata": {},
   "outputs": [],
   "source": [
    "ratio = 4"
   ]
  },
  {
   "cell_type": "code",
   "execution_count": 11,
   "metadata": {},
   "outputs": [
    {
     "data": {
      "text/plain": [
       "<tensorflow.python.training.tracking.util.CheckpointLoadStatus at 0x2b268ffc4a90>"
      ]
     },
     "execution_count": 11,
     "metadata": {},
     "output_type": "execute_result"
    }
   ],
   "source": [
    "sr_lr = int(sr_hr/ratio)\n",
    "model_input, model_output = create_autoencoder(input_shape, number_of_layers, ratio, skip_connections)\n",
    "model = Model(inputs=model_input, outputs=model_output)\n",
    "# load weights\n",
    "model.load_weights('weights/wgan_weights_4/generator_weights_49_')"
   ]
  },
  {
   "cell_type": "code",
   "execution_count": 12,
   "metadata": {},
   "outputs": [],
   "source": [
    "# run model\n",
    "lr_audio, hr_audio, generated_audio = test_on_audio_file(model, filename, songlength, input_shape, ratio, sr_lr, sr_hr)"
   ]
  },
  {
   "cell_type": "code",
   "execution_count": 13,
   "metadata": {},
   "outputs": [
    {
     "name": "stdout",
     "output_type": "stream",
     "text": [
      "Low Resolution Input:\n"
     ]
    },
    {
     "data": {
      "text/html": [
       "\n",
       "                    <audio controls>\n",
       "                        <source src=\"data:audio/mpeg;base64,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\" type=\"audio/mpeg\"/>\n",
       "                        Your browser does not support the audio element.\n",
       "                    </audio>\n",
       "                  "
      ],
      "text/plain": [
       "<pydub.audio_segment.AudioSegment at 0x2b26cd158630>"
      ]
     },
     "execution_count": 13,
     "metadata": {},
     "output_type": "execute_result"
    }
   ],
   "source": [
    "print('Low Resolution Input:')\n",
    "lr_audio"
   ]
  },
  {
   "cell_type": "code",
   "execution_count": 14,
   "metadata": {},
   "outputs": [
    {
     "name": "stdout",
     "output_type": "stream",
     "text": [
      "High Resolution Ground Truth:\n"
     ]
    },
    {
     "data": {
      "text/html": [
       "\n",
       "                    <audio controls>\n",
       "                        <source src=\"data:audio/mpeg;base64,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\" type=\"audio/mpeg\"/>\n",
       "                        Your browser does not support the audio element.\n",
       "                    </audio>\n",
       "                  "
      ],
      "text/plain": [
       "<pydub.audio_segment.AudioSegment at 0x2b26cd158668>"
      ]
     },
     "execution_count": 14,
     "metadata": {},
     "output_type": "execute_result"
    }
   ],
   "source": [
    "print('High Resolution Ground Truth:')\n",
    "hr_audio"
   ]
  },
  {
   "cell_type": "code",
   "execution_count": 15,
   "metadata": {},
   "outputs": [
    {
     "name": "stdout",
     "output_type": "stream",
     "text": [
      "High Resolution Output:\n"
     ]
    },
    {
     "data": {
      "text/html": [
       "\n",
       "                    <audio controls>\n",
       "                        <source src=\"data:audio/mpeg;base64,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\" type=\"audio/mpeg\"/>\n",
       "                        Your browser does not support the audio element.\n",
       "                    </audio>\n",
       "                  "
      ],
      "text/plain": [
       "<pydub.audio_segment.AudioSegment at 0x2b26cd1586a0>"
      ]
     },
     "execution_count": 15,
     "metadata": {},
     "output_type": "execute_result"
    }
   ],
   "source": [
    "print('High Resolution Output:')\n",
    "generated_audio"
   ]
  },
  {
   "cell_type": "markdown",
   "metadata": {},
   "source": [
    "## Train"
   ]
  },
  {
   "cell_type": "markdown",
   "metadata": {},
   "source": [
    "Training the models is pretty easy given the code. All models trained are defined as classes and have their own training loops defined in a `.train()` method. These loops were custom written, although specific pieces like the UNet, VGGish, critic/discriminator were adapted from code (links can be found in each respective file). All model classes have the same format in terms of training steps. Specific pieces were adapted into `tensorflow.keras.Model` format."
   ]
  },
  {
   "cell_type": "markdown",
   "metadata": {},
   "source": [
    "To train a UNet on the VCTK dataset with the content extractor, use the following. If using the content generator, its weights can be found at https://drive.google.com/file/d/1mhqXZ8CANgHyepum7N4yrjiyIg6qaMe6/view."
   ]
  },
  {
   "cell_type": "code",
   "execution_count": 9,
   "metadata": {},
   "outputs": [],
   "source": [
    "import sys  \n",
    "sys.path.insert(0,'generators') \n",
    "sys.path.insert(0,'models') \n",
    "sys.path.insert(0,'helpers') \n",
    "\n",
    "import random\n",
    "import os\n",
    "import tensorflow as tf\n",
    "import time\n",
    "import importlib\n",
    "\n",
    "\n",
    "import vctk_audio_generator_2\n",
    "importlib.reload(vctk_audio_generator_2)\n",
    "from vctk_audio_generator_2 import VCTKGenerator\n",
    "\n",
    "import audio_autoencoder\n",
    "importlib.reload(audio_autoencoder)\n",
    "from audio_autoencoder import create_autoencoder\n",
    "\n",
    "import vggish\n",
    "importlib.reload(vggish)\n",
    "from vggish import create_VGGish\n",
    "\n",
    "import helper_functions\n",
    "importlib.reload(helper_functions)\n",
    "from helper_functions import get_input_shape, make_song_list_file, vctk_tracklist_to_partition\n",
    "\n",
    "import sr_unet\n",
    "importlib.reload(sr_unet)\n",
    "from sr_unet import SRUNet"
   ]
  },
  {
   "cell_type": "markdown",
   "metadata": {},
   "source": [
    "To train the model, the following variables and paths need to be pre-defined (more info in documentation below)"
   ]
  },
  {
   "cell_type": "code",
   "execution_count": 10,
   "metadata": {},
   "outputs": [],
   "source": [
    "use_content_extractor = False\n",
    "    \n",
    "saved_weights_dir_path = '/home/tretzlof/projects/def-pft3/tretzlof/audio_super_resolution/src/weights_fma/content_gan_weights_2'\n",
    "ratio = 2\n",
    "dataset_type = 'VCTK'\n",
    "sr_hr = 16000\n",
    "save_epoch_step = 1\n",
    "songlength = 600\n",
    "datapath = '/home/tretzlof/scratch/VCTK-Corpus/wav48'\n",
    "\n",
    "sr_lr = sr_hr/ratio\n",
    "\n",
    "number_of_layers = 4\n",
    "lr = 3e-4\n",
    "skip_connections = True    \n",
    "    \n",
    "batchsize = 64\n",
    "epochs = 400\n",
    "content_weights_file_path = '/home/tretzlof/projects/def-pft3/tretzlof/audio_super_resolution/src/weights/vggish/vggish_16k_r2.h5'\n",
    "n_mels = 20\n",
    "nfft = 1024\n",
    "fmin=27.5\n",
    "fmax=16000\n",
    "power_melgram=2.0"
   ]
  },
  {
   "cell_type": "code",
   "execution_count": 11,
   "metadata": {},
   "outputs": [
    {
     "name": "stdout",
     "output_type": "stream",
     "text": [
      "\n",
      "sr_hr: 16000\n",
      "ratio: 2\n",
      "use_content_extractor: False\n",
      "saved_weights_dir_path: /home/tretzlof/projects/def-pft3/tretzlof/audio_super_resolution/src/weights_fma/content_gan_weights_2\n",
      "save_epoch_step: 1\n",
      "save_pickle_file_path: /home/tretzlof/projects/def-pft3/tretzlof/audio_super_resolution/src/unet_no_content_2_losses.pickle\n",
      "tracklistfile:/home/tretzlof/projects/def-pft3/tretzlof/audio_super_resolution/src/vctk_medium_audio_list.txt\n",
      "\n",
      "\n"
     ]
    }
   ],
   "source": [
    "if dataset_type == 'FMA':\n",
    "    tracklistfile = '/home/tretzlof/projects/def-pft3/tretzlof/audio_super_resolution/src/fma_medium_audio_list.txt'\n",
    "elif dataset_type == 'VCTK':\n",
    "    tracklistfile = '/home/tretzlof/projects/def-pft3/tretzlof/audio_super_resolution/src/vctk_medium_audio_list.txt'\n",
    "else:\n",
    "    print(dataset_type, ' is not a correct dataset type')\n",
    "    \n",
    "if use_content_extractor: \n",
    "    save_pickle_file_path = '/home/tretzlof/projects/def-pft3/tretzlof/audio_super_resolution/src/unet_content_{}_losses.pickle'.format(ratio)\n",
    "else:\n",
    "    save_pickle_file_path = '/home/tretzlof/projects/def-pft3/tretzlof/audio_super_resolution/src/unet_no_content_{}_losses.pickle'.format(ratio)\n",
    "\n",
    "print('\\nsr_hr: {}\\nratio: {}\\nuse_content_extractor: {}\\nsaved_weights_dir_path: {}\\nsave_epoch_step: {}\\nsave_pickle_file_path: {}\\ntracklistfile:{}\\n\\n'.format(sr_hr, ratio, use_content_extractor, saved_weights_dir_path, save_epoch_step, save_pickle_file_path, tracklistfile))\n",
    "\n",
    "input_shape = get_input_shape(tracklistfile, songlength, sr_hr)\n",
    "input_length = input_shape[0]\n",
    "\n",
    "partition, labels = vctk_tracklist_to_partition(tracklistfile, split=[1, 0])\n",
    "\n",
    "training_generator = VCTKGenerator(partition['train'], songlength, batch_size=batchsize, \n",
    "                                   input_shape=input_shape, datapath=datapath, ratio=ratio, sr_lr=sr_lr, sr_hr=sr_hr)\n",
    "validation_generator = None\n",
    "\n",
    "\n",
    "\n",
    "\n",
    "# data_output_generator = create_data_generator(training_generator, num_workers)\n",
    "\n",
    "create_generator = create_autoencoder\n",
    "create_content_extractor = create_VGGish"
   ]
  },
  {
   "cell_type": "code",
   "execution_count": 12,
   "metadata": {},
   "outputs": [],
   "source": [
    "unet_content = SRUNet(input_shape, input_length, songlength, datapath, save_pickle_file_path, sr_hr, ratio, \n",
    "                 tracklistfile, training_generator, validation_generator, number_of_layers, lr, \n",
    "                 create_generator, create_content_extractor, batchsize, epochs, skip_connections, use_content_extractor,\n",
    "                 saved_weights_dir_path, content_weights_file_path, save_epoch_step, n_mels, nfft, fmin, fmax, \n",
    "                 power_melgram)"
   ]
  },
  {
   "cell_type": "code",
   "execution_count": 13,
   "metadata": {
    "scrolled": true
   },
   "outputs": [
    {
     "name": "stdout",
     "output_type": "stream",
     "text": [
      "\n",
      "\n",
      "--------------------Epoch: 0--------------------\n",
      "Train step 0/781, Generator loss: 0.00309737\n",
      "Train step 1/781, Generator loss: 0.12155\n",
      "Train step 2/781, Generator loss: 0.00107881\n"
     ]
    },
    {
     "ename": "KeyboardInterrupt",
     "evalue": "",
     "output_type": "error",
     "traceback": [
      "\u001b[0;31m---------------------------------------------------------------------------\u001b[0m",
      "\u001b[0;31mKeyboardInterrupt\u001b[0m                         Traceback (most recent call last)",
      "\u001b[0;32m<ipython-input-13-356e124d5584>\u001b[0m in \u001b[0;36m<module>\u001b[0;34m\u001b[0m\n\u001b[0;32m----> 1\u001b[0;31m \u001b[0munet_content\u001b[0m\u001b[0;34m.\u001b[0m\u001b[0mtrain\u001b[0m\u001b[0;34m(\u001b[0m\u001b[0;34m)\u001b[0m\u001b[0;34m\u001b[0m\u001b[0m\n\u001b[0m",
      "\u001b[0;32m/lustre03/project/6038270/tretzlof/audio_super_resolution/project/models/sr_unet.py\u001b[0m in \u001b[0;36mtrain\u001b[0;34m(self)\u001b[0m\n\u001b[1;32m    186\u001b[0m             \u001b[0;32mfor\u001b[0m \u001b[0mtrain_step\u001b[0m \u001b[0;32min\u001b[0m \u001b[0mrange\u001b[0m\u001b[0;34m(\u001b[0m\u001b[0mself\u001b[0m\u001b[0;34m.\u001b[0m\u001b[0mtrain_step_num\u001b[0m\u001b[0;34m)\u001b[0m\u001b[0;34m:\u001b[0m\u001b[0;34m\u001b[0m\u001b[0m\n\u001b[1;32m    187\u001b[0m                 \u001b[0mtrain_step_time\u001b[0m \u001b[0;34m=\u001b[0m \u001b[0mtime\u001b[0m\u001b[0;34m.\u001b[0m\u001b[0mtime\u001b[0m\u001b[0;34m(\u001b[0m\u001b[0;34m)\u001b[0m\u001b[0;34m\u001b[0m\u001b[0m\n\u001b[0;32m--> 188\u001b[0;31m                 \u001b[0mlr_input\u001b[0m\u001b[0;34m,\u001b[0m \u001b[0mhr_output\u001b[0m \u001b[0;34m=\u001b[0m \u001b[0mself\u001b[0m\u001b[0;34m.\u001b[0m\u001b[0mdata_output_generator\u001b[0m\u001b[0;34m.\u001b[0m\u001b[0mget_next\u001b[0m\u001b[0;34m(\u001b[0m\u001b[0;34m)\u001b[0m\u001b[0;34m\u001b[0m\u001b[0m\n\u001b[0m\u001b[1;32m    189\u001b[0m                 \u001b[0mlr_input\u001b[0m \u001b[0;34m=\u001b[0m \u001b[0mlr_input\u001b[0m\u001b[0;34m.\u001b[0m\u001b[0mnumpy\u001b[0m\u001b[0;34m(\u001b[0m\u001b[0;34m)\u001b[0m\u001b[0;34m\u001b[0m\u001b[0m\n\u001b[1;32m    190\u001b[0m                 \u001b[0mhr_output\u001b[0m \u001b[0;34m=\u001b[0m \u001b[0mhr_output\u001b[0m\u001b[0;34m.\u001b[0m\u001b[0mnumpy\u001b[0m\u001b[0;34m(\u001b[0m\u001b[0;34m)\u001b[0m\u001b[0;34m\u001b[0m\u001b[0m\n",
      "\u001b[0;32m~/mixerenv/lib/python3.6/site-packages/tensorflow_core/python/data/ops/iterator_ops.py\u001b[0m in \u001b[0;36mget_next\u001b[0;34m(***failed resolving arguments***)\u001b[0m\n\u001b[1;32m    743\u001b[0m     \"\"\"\n\u001b[1;32m    744\u001b[0m     \u001b[0;32mdel\u001b[0m \u001b[0mname\u001b[0m\u001b[0;34m\u001b[0m\u001b[0m\n\u001b[0;32m--> 745\u001b[0;31m     \u001b[0;32mreturn\u001b[0m \u001b[0mself\u001b[0m\u001b[0;34m.\u001b[0m\u001b[0m_next_internal\u001b[0m\u001b[0;34m(\u001b[0m\u001b[0;34m)\u001b[0m\u001b[0;34m\u001b[0m\u001b[0m\n\u001b[0m\u001b[1;32m    746\u001b[0m \u001b[0;34m\u001b[0m\u001b[0m\n\u001b[1;32m    747\u001b[0m   \u001b[0;32mdef\u001b[0m \u001b[0m_gather_saveables_for_checkpoint\u001b[0m\u001b[0;34m(\u001b[0m\u001b[0mself\u001b[0m\u001b[0;34m)\u001b[0m\u001b[0;34m:\u001b[0m\u001b[0;34m\u001b[0m\u001b[0m\n",
      "\u001b[0;32m~/mixerenv/lib/python3.6/site-packages/tensorflow_core/python/data/ops/iterator_ops.py\u001b[0m in \u001b[0;36m_next_internal\u001b[0;34m(self)\u001b[0m\n\u001b[1;32m    657\u001b[0m             \u001b[0mself\u001b[0m\u001b[0;34m.\u001b[0m\u001b[0m_iterator_resource\u001b[0m\u001b[0;34m,\u001b[0m\u001b[0;34m\u001b[0m\u001b[0m\n\u001b[1;32m    658\u001b[0m             \u001b[0moutput_types\u001b[0m\u001b[0;34m=\u001b[0m\u001b[0mself\u001b[0m\u001b[0;34m.\u001b[0m\u001b[0m_flat_output_types\u001b[0m\u001b[0;34m,\u001b[0m\u001b[0;34m\u001b[0m\u001b[0m\n\u001b[0;32m--> 659\u001b[0;31m             output_shapes=self._flat_output_shapes)\n\u001b[0m\u001b[1;32m    660\u001b[0m \u001b[0;34m\u001b[0m\u001b[0m\n\u001b[1;32m    661\u001b[0m       \u001b[0;32mtry\u001b[0m\u001b[0;34m:\u001b[0m\u001b[0;34m\u001b[0m\u001b[0m\n",
      "\u001b[0;32m~/mixerenv/lib/python3.6/site-packages/tensorflow_core/python/ops/gen_dataset_ops.py\u001b[0m in \u001b[0;36miterator_get_next_sync\u001b[0;34m(iterator, output_types, output_shapes, name)\u001b[0m\n\u001b[1;32m   2467\u001b[0m         \u001b[0m_ctx\u001b[0m\u001b[0;34m.\u001b[0m\u001b[0m_context_handle\u001b[0m\u001b[0;34m,\u001b[0m \u001b[0mtld\u001b[0m\u001b[0;34m.\u001b[0m\u001b[0mdevice_name\u001b[0m\u001b[0;34m,\u001b[0m \u001b[0;34m\"IteratorGetNextSync\"\u001b[0m\u001b[0;34m,\u001b[0m \u001b[0mname\u001b[0m\u001b[0;34m,\u001b[0m\u001b[0;34m\u001b[0m\u001b[0m\n\u001b[1;32m   2468\u001b[0m         \u001b[0mtld\u001b[0m\u001b[0;34m.\u001b[0m\u001b[0mop_callbacks\u001b[0m\u001b[0;34m,\u001b[0m \u001b[0miterator\u001b[0m\u001b[0;34m,\u001b[0m \u001b[0;34m\"output_types\"\u001b[0m\u001b[0;34m,\u001b[0m \u001b[0moutput_types\u001b[0m\u001b[0;34m,\u001b[0m\u001b[0;34m\u001b[0m\u001b[0m\n\u001b[0;32m-> 2469\u001b[0;31m         \"output_shapes\", output_shapes)\n\u001b[0m\u001b[1;32m   2470\u001b[0m       \u001b[0;32mreturn\u001b[0m \u001b[0m_result\u001b[0m\u001b[0;34m\u001b[0m\u001b[0m\n\u001b[1;32m   2471\u001b[0m     \u001b[0;32mexcept\u001b[0m \u001b[0m_core\u001b[0m\u001b[0;34m.\u001b[0m\u001b[0m_FallbackException\u001b[0m\u001b[0;34m:\u001b[0m\u001b[0;34m\u001b[0m\u001b[0m\n",
      "\u001b[0;31mKeyboardInterrupt\u001b[0m: "
     ]
    }
   ],
   "source": [
    "unet_content.train()"
   ]
  },
  {
   "cell_type": "markdown",
   "metadata": {},
   "source": [
    "To train the GAN, run the import and variable definition blocks above, then run the following."
   ]
  },
  {
   "cell_type": "code",
   "execution_count": null,
   "metadata": {},
   "outputs": [],
   "source": [
    "from ps_discriminator import create_discriminator\n",
    "\n",
    "import audiosr_gan\n",
    "importlib.reload(audiosr_gan)\n",
    "from audiosr_gan import AudioSRGan"
   ]
  },
  {
   "cell_type": "code",
   "execution_count": null,
   "metadata": {},
   "outputs": [],
   "source": [
    "audio_srgan = AudioSRGan(input_shape, input_length, songlength, datapath, save_pickle_file_path, sr_hr, ratio, \n",
    "                          tracklistfile, training_generator, validation_generator, number_of_layers, lr, \n",
    "                          create_discriminator, create_autoencoder, create_VGGish, batchsize, epochs, \n",
    "                          skip_connections, use_content_extractor, saved_weights_dir_path, content_weights_file_path, save_epoch_step, \n",
    "                          n_mels, nfft, fmin, fmax, power_melgram)"
   ]
  },
  {
   "cell_type": "code",
   "execution_count": null,
   "metadata": {},
   "outputs": [],
   "source": [
    "audio_srgan.train()"
   ]
  },
  {
   "cell_type": "markdown",
   "metadata": {},
   "source": [
    "To train the WGAN, run the import and variable definition blocks for the UNet, then run the following."
   ]
  },
  {
   "cell_type": "code",
   "execution_count": null,
   "metadata": {},
   "outputs": [],
   "source": [
    "import ps_discriminator\n",
    "importlib.reload(ps_discriminator)\n",
    "from ps_discriminator import create_discriminator\n",
    "\n",
    "import audiosr_wgan\n",
    "importlib.reload(audiosr_wgan)\n",
    "from audiosr_wgan import AudioASRWGAN"
   ]
  },
  {
   "cell_type": "code",
   "execution_count": null,
   "metadata": {},
   "outputs": [],
   "source": [
    "audio_srwgan = AudioASRWGAN(input_shape, input_length, songlength, datapath, save_pickle_file_path, sr_hr, ratio, tracklistfile, \n",
    "                 training_generator, validation_generator, number_of_layers, lr, create_discriminator, \n",
    "                 create_autoencoder, create_content_extractor, batchsize, epochs, skip_connections,\n",
    "                 use_content_extractor, saved_weights_dir_path, content_weights_file_path, n_critic, clip_value, \n",
    "                 save_epoch_step, n_mels, nfft, fmin, fmax, power_melgram)"
   ]
  },
  {
   "cell_type": "code",
   "execution_count": null,
   "metadata": {},
   "outputs": [],
   "source": [
    "audio_srwgan.train()"
   ]
  },
  {
   "cell_type": "markdown",
   "metadata": {},
   "source": [
    "# Documentation"
   ]
  },
  {
   "cell_type": "markdown",
   "metadata": {},
   "source": [
    "The code is split up into three subdirectories: `generators`, `models`, and `helpers`"
   ]
  },
  {
   "cell_type": "markdown",
   "metadata": {},
   "source": [
    "## `generators`"
   ]
  },
  {
   "cell_type": "markdown",
   "metadata": {},
   "source": [
    "### `vctk_audio_generator_2.py`"
   ]
  },
  {
   "cell_type": "markdown",
   "metadata": {},
   "source": [
    "Creates a generator that will be turned into Tensorflow Dataset to generate data. A python generator function is created to generate batches. To load data, the generator has its `next` method called. When data is loaded, it is first loaded as a pydub `AudioSegment` before it is converted to the 1D sample array (which is the form used in the Python Librosa module). For some reason, Librosa was slower in loading data than the process used here : `AudioSegment`-> `Sample array`. A high resolution audio sample is first loaded and then the low resolution version is computed from it. "
   ]
  },
  {
   "cell_type": "code",
   "execution_count": null,
   "metadata": {},
   "outputs": [],
   "source": [
    "VCTKGenerator(list_IDs, labels, songlength, batch_size, input_shape, datapath, ratio, sr_lr, sr_hr, n_channels=1, \n",
    "                 shuffle=True)"
   ]
  },
  {
   "cell_type": "markdown",
   "metadata": {},
   "source": [
    "- `list_IDs`: List of strings. Contains list of filenames to be trained on.\n",
    "- `songlength`: Integer. Length of input to the network \n",
    "- `batch_size`: Integer. Training batch size\n",
    "- `input_shape`: Tuple. Input shape, should be of a one dimensional signal of the form `(n_samples, 1)` where `n_samples` is the number of samples in the input signal\n",
    "- `datapath`: String. Path to directory where data is stored\n",
    "- `ratio`: Integer. Upsampling ratio\n",
    "- `sr_hr`: Integer. Low resolution sampling rate\n",
    "- `sr_hr`: Integer. High resolution sampling rate"
   ]
  },
  {
   "cell_type": "markdown",
   "metadata": {},
   "source": [
    "## `models`"
   ]
  },
  {
   "cell_type": "markdown",
   "metadata": {},
   "source": [
    "The models in this project as well as their layer definitions are in this directory. "
   ]
  },
  {
   "cell_type": "markdown",
   "metadata": {},
   "source": [
    "### `audio_autoencoder.py`"
   ]
  },
  {
   "cell_type": "markdown",
   "metadata": {},
   "source": [
    "This file defines the UNet generator model used in this project."
   ]
  },
  {
   "cell_type": "code",
   "execution_count": null,
   "metadata": {},
   "outputs": [],
   "source": [
    "create_autoencoder(input_shape, number_of_layers, ratio, skip_connections)"
   ]
  },
  {
   "cell_type": "markdown",
   "metadata": {},
   "source": [
    "Creates a UNet model.\n",
    "- `number_of_layers`: Integer. Number of upsampling and downsampling blocks, in this project we used $B=4$\n",
    "- `skip_connections`: Boolean. If skip connections should be used in the UNet. In this project, this is always set to `True`"
   ]
  },
  {
   "cell_type": "markdown",
   "metadata": {},
   "source": [
    "### `ps_discriminator.py`"
   ]
  },
  {
   "cell_type": "markdown",
   "metadata": {},
   "source": [
    "Creates discriminator and critic models (same function for both)."
   ]
  },
  {
   "cell_type": "code",
   "execution_count": null,
   "metadata": {},
   "outputs": [],
   "source": [
    "create_discriminator(input_shape, kernel_len=25, dim=64, use_batchnorm=False, phaseshuffle_rad=1)"
   ]
  },
  {
   "cell_type": "markdown",
   "metadata": {},
   "source": [
    "### `vggish.py`"
   ]
  },
  {
   "cell_type": "markdown",
   "metadata": {},
   "source": [
    "Creates VGGish model for content loss. "
   ]
  },
  {
   "cell_type": "code",
   "execution_count": null,
   "metadata": {},
   "outputs": [],
   "source": [
    "create_VGGish(input_length, sr_hr, n_mels, hoplength, nfft, fmin, fmax, power_melgram, pooling='avg')"
   ]
  },
  {
   "cell_type": "markdown",
   "metadata": {},
   "source": [
    "- `input_length`: Integer. Input length, this is the number of samples in the input\n",
    "- `n_mels`: Number of frequency bands for spectrogram \n",
    "- `hoplength`: Hoplength for spectrogram\n",
    "- `nfft`: Length of the FFT window for spectrogram \n",
    "- `fmin`: Lowest frequency for spectrogram \n",
    "- `fmax`: Highest frequency for spectrogram \n",
    "- `power_melgram`: Exponent for the magnitude spectrogram"
   ]
  },
  {
   "cell_type": "markdown",
   "metadata": {},
   "source": [
    "### `sr_unet.py`"
   ]
  },
  {
   "cell_type": "markdown",
   "metadata": {},
   "source": [
    "Defines a class to train the UNet model. This sets up the model, defines a training loop and loss, and implements Tensorflow's gradient tape to update the gradients. "
   ]
  },
  {
   "cell_type": "code",
   "execution_count": null,
   "metadata": {},
   "outputs": [],
   "source": [
    "SRUNet(self, input_shape, input_length, songlength, datapath, save_pickle_file_path, sr_hr, ratio, tracklistfile, \n",
    "       training_generator, validation_generator, number_of_layers, lr, create_generator, create_content_extractor, \n",
    "       batchsize, epochs, skip_connections, use_content_extractor, saved_weights_dir_path, content_weights_file_path, \n",
    "       save_epoch_step, n_mels, nfft, fmin, fmax, power_melgram)"
   ]
  },
  {
   "cell_type": "markdown",
   "metadata": {},
   "source": [
    "- `save_pickle_file_path`: String. Path to save a pickle file that contains training info such as validation loss\n",
    "- `ratio`: Integer. Upsampling ratio\n",
    "- `tracklistfile`: String. Path to a text file where each line denotes a file to be used for training\n",
    "- `training_generator`: Tensorflow dataset for training\n",
    "- `validation_generator`: Tensorflow dataset for validation (not used currently)\n",
    "- `number_of_layers`: Integer. Number of upsampling and downsampling blocks, in this project we used $B=4$\n",
    "- `lr`: Float. Learning rate \n",
    "- `create_generator`: Function that will be used to create the generator, e.g. `create_autoencoder` \n",
    "- `create_content_extractor`: Function that will be used to create the content extractor \n",
    "- `epochs`: Integer. Total epoch number to train for\n",
    "- `skip_connections`: Boolean. If skip connections should be used in the generator \n",
    "- `use_content_extractor`: Boolean. If the content extractor should be used\n",
    "- `saved_weights_dir_path`: String. Path to directory where weights should be saved\n",
    "- `content_weights_file_path`: String. Path to file for downloading content extractor weights. \n",
    "- `save_epoch_step`: Integer. Amount of steps between saving weights. "
   ]
  },
  {
   "cell_type": "markdown",
   "metadata": {},
   "source": [
    "### `audiosr_gan.py`"
   ]
  },
  {
   "cell_type": "markdown",
   "metadata": {},
   "source": [
    "Defines a class to train the GAN model. This sets up the model, defines a training loop and loss, and implements Tensorflow's gradient tape to update the gradients. "
   ]
  },
  {
   "cell_type": "code",
   "execution_count": null,
   "metadata": {},
   "outputs": [],
   "source": [
    "AudioSRGan(input_shape, input_length, songlength, datapath, save_pickle_file_path, sr_hr, ratio, tracklistfile, \n",
    "           training_generator, validation_generator, number_of_layers, lr, create_discriminator, create_generator, \n",
    "           create_content_extractor, batchsize, epochs, skip_connections, use_content_extractor,\n",
    "           saved_weights_dir_path, content_weights_file_path, save_epoch_step, n_mels, nfft, fmin, fmax, \n",
    "           power_melgram):"
   ]
  },
  {
   "cell_type": "markdown",
   "metadata": {},
   "source": [
    "- `create_discriminator`: Function used for discriminator"
   ]
  },
  {
   "cell_type": "markdown",
   "metadata": {},
   "source": [
    "### `audiosr_wgan.py`"
   ]
  },
  {
   "cell_type": "code",
   "execution_count": null,
   "metadata": {},
   "outputs": [],
   "source": [
    "AudioASRWGAN(input_shape, input_length, songlength, datapath, save_pickle_file_path, sr_hr, ratio, tracklistfile, \n",
    "                 training_generator, validation_generator, number_of_layers, lr, create_discriminator, \n",
    "                 create_autoencoder, create_content_extractor, batchsize, epochs , skip_connections,\n",
    "                 use_content_extractor, saved_weights_dir_path, content_weights_file_path, n_critic, clip_value, \n",
    "                 save_epoch_step, n_mels, nfft, fmin, fmax, power_melgram):"
   ]
  },
  {
   "cell_type": "markdown",
   "metadata": {},
   "source": [
    "- `n_critic`: Integer. Amount of steps the critic should be trained for in between generator training steps. \n",
    "- `clip_value`: Float. Amount to clip weights by. "
   ]
  },
  {
   "cell_type": "markdown",
   "metadata": {},
   "source": [
    "## `layers`"
   ]
  },
  {
   "cell_type": "markdown",
   "metadata": {},
   "source": [
    "### `subpixel.py`"
   ]
  },
  {
   "cell_type": "markdown",
   "metadata": {},
   "source": [
    "Defines the subpixel layer."
   ]
  },
  {
   "cell_type": "code",
   "execution_count": null,
   "metadata": {},
   "outputs": [],
   "source": [
    "phase_shift_tensorlayer(r)"
   ]
  },
  {
   "cell_type": "markdown",
   "metadata": {},
   "source": [
    "- `r`: Upsampling ratio\n",
    "\n",
    "Computes subpixel operation. "
   ]
  },
  {
   "cell_type": "markdown",
   "metadata": {},
   "source": [
    "## `Kapre`"
   ]
  },
  {
   "cell_type": "markdown",
   "metadata": {},
   "source": [
    "This directory uses code from https://github.com/keunwoochoi/kapre, this code allows one to implement a neural netowrk layer that computes the spectrogram of its input. In this project the Python module did not work, so the code was copied to be able to use it. "
   ]
  },
  {
   "cell_type": "markdown",
   "metadata": {},
   "source": [
    "## Helpers"
   ]
  },
  {
   "cell_type": "markdown",
   "metadata": {},
   "source": [
    "### helper_functions.py"
   ]
  },
  {
   "cell_type": "markdown",
   "metadata": {},
   "source": [
    "Defines helper functions to run code. Contains code to convert between pydub audio and librosa audio as well as creating code to make training files. "
   ]
  },
  {
   "cell_type": "markdown",
   "metadata": {},
   "source": [
    "### testing.py"
   ]
  },
  {
   "cell_type": "markdown",
   "metadata": {},
   "source": [
    "Defines functions for testing. Includes code to generate data from an audio file name and various other helper functions for testing. "
   ]
  }
 ],
 "metadata": {
  "kernelspec": {
   "display_name": "Python 3",
   "language": "python",
   "name": "python3"
  },
  "language_info": {
   "codemirror_mode": {
    "name": "ipython",
    "version": 3
   },
   "file_extension": ".py",
   "mimetype": "text/x-python",
   "name": "python",
   "nbconvert_exporter": "python",
   "pygments_lexer": "ipython3",
   "version": "3.6.3"
  }
 },
 "nbformat": 4,
 "nbformat_minor": 2
}
